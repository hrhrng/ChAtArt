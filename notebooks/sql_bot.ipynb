{
 "cells": [
  {
   "cell_type": "code",
   "execution_count": 80,
   "id": "initial_id",
   "metadata": {
    "collapsed": true,
    "ExecuteTime": {
     "end_time": "2023-10-28T04:56:09.119496200Z",
     "start_time": "2023-10-28T04:56:09.081798500Z"
    }
   },
   "outputs": [],
   "source": [
    "from langchain.utilities import SQLDatabase\n",
    "from langchain.agents import create_sql_agent\n",
    "from langchain.agents.agent_toolkits import SQLDatabaseToolkit\n",
    "# from langchain.agents import AgentExecutor\n",
    "from langchain.agents.agent_types import AgentType\n",
    "from langchain.llms import OpenAI\n",
    "from langchain.chat_models import ChatOpenAI\n",
    "\n",
    "\n",
    "db = SQLDatabase.from_uri(\"sqlite:///./Chinook.db\")\n",
    "# llm = OpenAI(temperature=0, verbose=True)\n",
    "\n",
    "# sql_agent的主要不同点是加入了suffix和prefix, 见 langchain\\agents\\agent_toolkits\\sql\\prompt.py\n",
    "agent_executor = create_sql_agent(\n",
    "    llm=ChatOpenAI(temperature=0, model = \"gpt-4\"),\n",
    "    toolkit=SQLDatabaseToolkit(db=db, llm=ChatOpenAI(temperature=0),handle_parsing_errors=True),\n",
    "    verbose=True,\n",
    "    agent_type=AgentType.ZERO_SHOT_REACT_DESCRIPTION,\n",
    "    handle_parsing_errors=True\n",
    ")"
   ]
  },
  {
   "cell_type": "code",
   "execution_count": null,
   "outputs": [],
   "source": [
    "agent_executor.run(\"How many employees are there?\")"
   ],
   "metadata": {
    "collapsed": false
   },
   "id": "296c4f0ee68f9c17"
  },
  {
   "cell_type": "markdown",
   "source": [
    "TODO\n",
    "1. 加入memory : 创建 agent_chain...\n",
    "2. 替换 tools"
   ],
   "metadata": {
    "collapsed": false
   },
   "id": "ae0a9a9c8dde980"
  },
  {
   "cell_type": "markdown",
   "source": [
    "### 加入memory"
   ],
   "metadata": {
    "collapsed": false
   },
   "id": "b9dcb4bd31a46901"
  },
  {
   "cell_type": "code",
   "execution_count": 86,
   "outputs": [],
   "source": [
    "from langchain.agents import ZeroShotAgent, Tool, AgentExecutor, ConversationalChatAgent, ConversationalAgent\n",
    "from langchain.utilities import SerpAPIWrapper\n",
    "from langchain.memory import ConversationBufferMemory\n",
    "\n",
    "\n",
    "\n",
    "\n",
    "prefix = \"\"\"Have a conversation with a human, answering the following questions as best you can. You have access to the following tools，If there is no tool useful, answer it by yourself instead of Action:\"\"\"\n",
    "suffix = \"\"\"Begin!\"\n",
    "\n",
    "{chat_history}\n",
    "Question: {input}\n",
    "{agent_scratchpad}\"\"\"\n",
    "search = SerpAPIWrapper()\n",
    "tools = [\n",
    "    \n",
    "]\n",
    "\n",
    "prompt = ConversationalAgent.create_prompt(\n",
    "    tools,\n",
    "    input_variables=[\"input\", \"chat_history\", \"agent_scratchpad\"]\n",
    ")\n",
    "memory=ConversationBufferMemory(memory_key=\"chat_history\", input_key='input', output_key=\"output\",return_messages = True)\n"
   ],
   "metadata": {
    "collapsed": false,
    "ExecuteTime": {
     "end_time": "2023-10-28T05:16:55.537636300Z",
     "start_time": "2023-10-28T05:16:55.525320Z"
    }
   },
   "id": "cfed8b29d168a594"
  },
  {
   "cell_type": "code",
   "execution_count": 87,
   "outputs": [],
   "source": [
    "from langchain.agents.output_parsers import JSONAgentOutputParser\n",
    "from langchain.chains import LLMChain\n",
    "\n",
    "llm_chain = LLMChain(llm=ChatOpenAI(temperature=0), prompt=prompt)\n",
    "agent = ConversationalAgent(llm_chain=llm_chain, tools=tools, verbose=True, output_parser = JSONAgentOutputParser())\n",
    "agent_chain = AgentExecutor.from_agent_and_tools(\n",
    "    agent=agent, tools=tools, verbose=True, memory=memory, handle_parsing_errors=True,return_intermediate_steps=True, stop = \"\"\n",
    ")"
   ],
   "metadata": {
    "collapsed": false,
    "ExecuteTime": {
     "end_time": "2023-10-28T05:16:56.655226400Z",
     "start_time": "2023-10-28T05:16:56.632293500Z"
    }
   },
   "id": "360404a6d53945a"
  },
  {
   "cell_type": "code",
   "execution_count": 88,
   "outputs": [
    {
     "name": "stdout",
     "output_type": "stream",
     "text": [
      "\n",
      "\n",
      "\u001B[1m> Entering new AgentExecutor chain...\u001B[0m\n",
      "\u001B[32;1m\u001B[1;3mCould not parse LLM output: Thought: Do I need to use a tool? Yes\n",
      "Action: code_generation\n",
      "Action Input: content='生成一段sql, 有关查询班级的总人数'\u001B[0m\n",
      "Observation: Invalid or incomplete response\n",
      "Thought:\u001B[32;1m\u001B[1;3mCould not parse LLM output: Do I need to use a tool? Yes\u001B[0m\n",
      "Observation: Invalid or incomplete response\n",
      "Thought:\u001B[32;1m\u001B[1;3mCould not parse LLM output: Do I need to use a tool? Yes\u001B[0m\n",
      "Observation: Invalid or incomplete response\n",
      "Thought:\u001B[32;1m\u001B[1;3mCould not parse LLM output: Do I need to use a tool? Yes\u001B[0m\n",
      "Observation: Invalid or incomplete response\n",
      "Thought:\u001B[32;1m\u001B[1;3mCould not parse LLM output: Do I need to use a tool? Yes\u001B[0m\n",
      "Observation: Invalid or incomplete response\n",
      "Thought:\u001B[32;1m\u001B[1;3mCould not parse LLM output: Do I need to use a tool? Yes\u001B[0m\n",
      "Observation: Invalid or incomplete response\n",
      "Thought:\u001B[32;1m\u001B[1;3mCould not parse LLM output: Do I need to use a tool? Yes\u001B[0m\n",
      "Observation: Invalid or incomplete response\n",
      "Thought:\u001B[32;1m\u001B[1;3mCould not parse LLM output: Do I need to use a tool? Yes\u001B[0m\n",
      "Observation: Invalid or incomplete response\n",
      "Thought:\u001B[32;1m\u001B[1;3mCould not parse LLM output: Do I need to use a tool? Yes\u001B[0m\n",
      "Observation: Invalid or incomplete response\n",
      "Thought:\u001B[32;1m\u001B[1;3mCould not parse LLM output: Do I need to use a tool? Yes\u001B[0m\n",
      "Observation: Invalid or incomplete response\n",
      "Thought:\u001B[32;1m\u001B[1;3mCould not parse LLM output: Do I need to use a tool? No\u001B[0m\n",
      "Observation: Invalid or incomplete response\n",
      "Thought:\u001B[32;1m\u001B[1;3mCould not parse LLM output: Do I need to use a tool? No\u001B[0m\n",
      "Observation: Invalid or incomplete response\n",
      "Thought:\u001B[32;1m\u001B[1;3mCould not parse LLM output: Do I need to use a tool? Yes\u001B[0m\n",
      "Observation: Invalid or incomplete response\n",
      "Thought:\u001B[32;1m\u001B[1;3mCould not parse LLM output: Do I need to use a tool? Yes\u001B[0m\n",
      "Observation: Invalid or incomplete response\n",
      "Thought:\u001B[32;1m\u001B[1;3mCould not parse LLM output: Do I need to use a tool? Yes\u001B[0m\n",
      "Observation: Invalid or incomplete response\n",
      "Thought:\u001B[32;1m\u001B[1;3m\u001B[0m\n",
      "\n",
      "\u001B[1m> Finished chain.\u001B[0m\n"
     ]
    },
    {
     "ename": "ValidationError",
     "evalue": "1 validation error for HumanMessage\ncontent\n  str type expected (type=type_error.str)",
     "output_type": "error",
     "traceback": [
      "\u001B[1;31m---------------------------------------------------------------------------\u001B[0m",
      "\u001B[1;31mValidationError\u001B[0m                           Traceback (most recent call last)",
      "Cell \u001B[1;32mIn[88], line 8\u001B[0m\n\u001B[0;32m      5\u001B[0m p \u001B[38;5;241m=\u001B[39m HumanMessage(content\u001B[38;5;241m=\u001B[39m\u001B[38;5;124m\"\u001B[39m\u001B[38;5;124m生成一段sql, 有关查询班级的总人数\u001B[39m\u001B[38;5;124m\"\u001B[39m)\n\u001B[0;32m      6\u001B[0m \u001B[38;5;28;01mimport\u001B[39;00m \u001B[38;5;21;01masyncio\u001B[39;00m\n\u001B[1;32m----> 8\u001B[0m response \u001B[38;5;241m=\u001B[39m \u001B[43magent_chain\u001B[49m\u001B[38;5;241;43m.\u001B[39;49m\u001B[43minvoke\u001B[49m\u001B[43m(\u001B[49m\u001B[43mp\u001B[49m\u001B[43m)\u001B[49m\n\u001B[0;32m      9\u001B[0m \u001B[38;5;66;03m# agent_chain.stream()\u001B[39;00m\n\u001B[0;32m     10\u001B[0m \u001B[38;5;66;03m# response[\"intermediate_steps\"]\u001B[39;00m\n",
      "File \u001B[1;32m~\\anaconda3\\envs\\langchain\\Lib\\site-packages\\langchain\\chains\\base.py:87\u001B[0m, in \u001B[0;36mChain.invoke\u001B[1;34m(self, input, config, **kwargs)\u001B[0m\n\u001B[0;32m     80\u001B[0m \u001B[38;5;28;01mdef\u001B[39;00m \u001B[38;5;21minvoke\u001B[39m(\n\u001B[0;32m     81\u001B[0m     \u001B[38;5;28mself\u001B[39m,\n\u001B[0;32m     82\u001B[0m     \u001B[38;5;28minput\u001B[39m: Dict[\u001B[38;5;28mstr\u001B[39m, Any],\n\u001B[0;32m     83\u001B[0m     config: Optional[RunnableConfig] \u001B[38;5;241m=\u001B[39m \u001B[38;5;28;01mNone\u001B[39;00m,\n\u001B[0;32m     84\u001B[0m     \u001B[38;5;241m*\u001B[39m\u001B[38;5;241m*\u001B[39mkwargs: Any,\n\u001B[0;32m     85\u001B[0m ) \u001B[38;5;241m-\u001B[39m\u001B[38;5;241m>\u001B[39m Dict[\u001B[38;5;28mstr\u001B[39m, Any]:\n\u001B[0;32m     86\u001B[0m     config \u001B[38;5;241m=\u001B[39m config \u001B[38;5;129;01mor\u001B[39;00m {}\n\u001B[1;32m---> 87\u001B[0m     \u001B[38;5;28;01mreturn\u001B[39;00m \u001B[38;5;28;43mself\u001B[39;49m\u001B[43m(\u001B[49m\n\u001B[0;32m     88\u001B[0m \u001B[43m        \u001B[49m\u001B[38;5;28;43minput\u001B[39;49m\u001B[43m,\u001B[49m\n\u001B[0;32m     89\u001B[0m \u001B[43m        \u001B[49m\u001B[43mcallbacks\u001B[49m\u001B[38;5;241;43m=\u001B[39;49m\u001B[43mconfig\u001B[49m\u001B[38;5;241;43m.\u001B[39;49m\u001B[43mget\u001B[49m\u001B[43m(\u001B[49m\u001B[38;5;124;43m\"\u001B[39;49m\u001B[38;5;124;43mcallbacks\u001B[39;49m\u001B[38;5;124;43m\"\u001B[39;49m\u001B[43m)\u001B[49m\u001B[43m,\u001B[49m\n\u001B[0;32m     90\u001B[0m \u001B[43m        \u001B[49m\u001B[43mtags\u001B[49m\u001B[38;5;241;43m=\u001B[39;49m\u001B[43mconfig\u001B[49m\u001B[38;5;241;43m.\u001B[39;49m\u001B[43mget\u001B[49m\u001B[43m(\u001B[49m\u001B[38;5;124;43m\"\u001B[39;49m\u001B[38;5;124;43mtags\u001B[39;49m\u001B[38;5;124;43m\"\u001B[39;49m\u001B[43m)\u001B[49m\u001B[43m,\u001B[49m\n\u001B[0;32m     91\u001B[0m \u001B[43m        \u001B[49m\u001B[43mmetadata\u001B[49m\u001B[38;5;241;43m=\u001B[39;49m\u001B[43mconfig\u001B[49m\u001B[38;5;241;43m.\u001B[39;49m\u001B[43mget\u001B[49m\u001B[43m(\u001B[49m\u001B[38;5;124;43m\"\u001B[39;49m\u001B[38;5;124;43mmetadata\u001B[39;49m\u001B[38;5;124;43m\"\u001B[39;49m\u001B[43m)\u001B[49m\u001B[43m,\u001B[49m\n\u001B[0;32m     92\u001B[0m \u001B[43m        \u001B[49m\u001B[43mrun_name\u001B[49m\u001B[38;5;241;43m=\u001B[39;49m\u001B[43mconfig\u001B[49m\u001B[38;5;241;43m.\u001B[39;49m\u001B[43mget\u001B[49m\u001B[43m(\u001B[49m\u001B[38;5;124;43m\"\u001B[39;49m\u001B[38;5;124;43mrun_name\u001B[39;49m\u001B[38;5;124;43m\"\u001B[39;49m\u001B[43m)\u001B[49m\u001B[43m,\u001B[49m\n\u001B[0;32m     93\u001B[0m \u001B[43m        \u001B[49m\u001B[38;5;241;43m*\u001B[39;49m\u001B[38;5;241;43m*\u001B[39;49m\u001B[43mkwargs\u001B[49m\u001B[43m,\u001B[49m\n\u001B[0;32m     94\u001B[0m \u001B[43m    \u001B[49m\u001B[43m)\u001B[49m\n",
      "File \u001B[1;32m~\\anaconda3\\envs\\langchain\\Lib\\site-packages\\langchain\\chains\\base.py:312\u001B[0m, in \u001B[0;36mChain.__call__\u001B[1;34m(self, inputs, return_only_outputs, callbacks, tags, metadata, run_name, include_run_info)\u001B[0m\n\u001B[0;32m    310\u001B[0m     \u001B[38;5;28;01mraise\u001B[39;00m e\n\u001B[0;32m    311\u001B[0m run_manager\u001B[38;5;241m.\u001B[39mon_chain_end(outputs)\n\u001B[1;32m--> 312\u001B[0m final_outputs: Dict[\u001B[38;5;28mstr\u001B[39m, Any] \u001B[38;5;241m=\u001B[39m \u001B[38;5;28;43mself\u001B[39;49m\u001B[38;5;241;43m.\u001B[39;49m\u001B[43mprep_outputs\u001B[49m\u001B[43m(\u001B[49m\n\u001B[0;32m    313\u001B[0m \u001B[43m    \u001B[49m\u001B[43minputs\u001B[49m\u001B[43m,\u001B[49m\u001B[43m \u001B[49m\u001B[43moutputs\u001B[49m\u001B[43m,\u001B[49m\u001B[43m \u001B[49m\u001B[43mreturn_only_outputs\u001B[49m\n\u001B[0;32m    314\u001B[0m \u001B[43m\u001B[49m\u001B[43m)\u001B[49m\n\u001B[0;32m    315\u001B[0m \u001B[38;5;28;01mif\u001B[39;00m include_run_info:\n\u001B[0;32m    316\u001B[0m     final_outputs[RUN_KEY] \u001B[38;5;241m=\u001B[39m RunInfo(run_id\u001B[38;5;241m=\u001B[39mrun_manager\u001B[38;5;241m.\u001B[39mrun_id)\n",
      "File \u001B[1;32m~\\anaconda3\\envs\\langchain\\Lib\\site-packages\\langchain\\chains\\base.py:408\u001B[0m, in \u001B[0;36mChain.prep_outputs\u001B[1;34m(self, inputs, outputs, return_only_outputs)\u001B[0m\n\u001B[0;32m    406\u001B[0m \u001B[38;5;28mself\u001B[39m\u001B[38;5;241m.\u001B[39m_validate_outputs(outputs)\n\u001B[0;32m    407\u001B[0m \u001B[38;5;28;01mif\u001B[39;00m \u001B[38;5;28mself\u001B[39m\u001B[38;5;241m.\u001B[39mmemory \u001B[38;5;129;01mis\u001B[39;00m \u001B[38;5;129;01mnot\u001B[39;00m \u001B[38;5;28;01mNone\u001B[39;00m:\n\u001B[1;32m--> 408\u001B[0m     \u001B[38;5;28;43mself\u001B[39;49m\u001B[38;5;241;43m.\u001B[39;49m\u001B[43mmemory\u001B[49m\u001B[38;5;241;43m.\u001B[39;49m\u001B[43msave_context\u001B[49m\u001B[43m(\u001B[49m\u001B[43minputs\u001B[49m\u001B[43m,\u001B[49m\u001B[43m \u001B[49m\u001B[43moutputs\u001B[49m\u001B[43m)\u001B[49m\n\u001B[0;32m    409\u001B[0m \u001B[38;5;28;01mif\u001B[39;00m return_only_outputs:\n\u001B[0;32m    410\u001B[0m     \u001B[38;5;28;01mreturn\u001B[39;00m outputs\n",
      "File \u001B[1;32m~\\anaconda3\\envs\\langchain\\Lib\\site-packages\\langchain\\memory\\chat_memory.py:36\u001B[0m, in \u001B[0;36mBaseChatMemory.save_context\u001B[1;34m(self, inputs, outputs)\u001B[0m\n\u001B[0;32m     34\u001B[0m \u001B[38;5;250m\u001B[39m\u001B[38;5;124;03m\"\"\"Save context from this conversation to buffer.\"\"\"\u001B[39;00m\n\u001B[0;32m     35\u001B[0m input_str, output_str \u001B[38;5;241m=\u001B[39m \u001B[38;5;28mself\u001B[39m\u001B[38;5;241m.\u001B[39m_get_input_output(inputs, outputs)\n\u001B[1;32m---> 36\u001B[0m \u001B[38;5;28;43mself\u001B[39;49m\u001B[38;5;241;43m.\u001B[39;49m\u001B[43mchat_memory\u001B[49m\u001B[38;5;241;43m.\u001B[39;49m\u001B[43madd_user_message\u001B[49m\u001B[43m(\u001B[49m\u001B[43minput_str\u001B[49m\u001B[43m)\u001B[49m\n\u001B[0;32m     37\u001B[0m \u001B[38;5;28mself\u001B[39m\u001B[38;5;241m.\u001B[39mchat_memory\u001B[38;5;241m.\u001B[39madd_ai_message(output_str)\n",
      "File \u001B[1;32m~\\anaconda3\\envs\\langchain\\Lib\\site-packages\\langchain\\schema\\chat_history.py:46\u001B[0m, in \u001B[0;36mBaseChatMessageHistory.add_user_message\u001B[1;34m(self, message)\u001B[0m\n\u001B[0;32m     40\u001B[0m \u001B[38;5;28;01mdef\u001B[39;00m \u001B[38;5;21madd_user_message\u001B[39m(\u001B[38;5;28mself\u001B[39m, message: \u001B[38;5;28mstr\u001B[39m) \u001B[38;5;241m-\u001B[39m\u001B[38;5;241m>\u001B[39m \u001B[38;5;28;01mNone\u001B[39;00m:\n\u001B[0;32m     41\u001B[0m \u001B[38;5;250m    \u001B[39m\u001B[38;5;124;03m\"\"\"Convenience method for adding a human message string to the store.\u001B[39;00m\n\u001B[0;32m     42\u001B[0m \n\u001B[0;32m     43\u001B[0m \u001B[38;5;124;03m    Args:\u001B[39;00m\n\u001B[0;32m     44\u001B[0m \u001B[38;5;124;03m        message: The string contents of a human message.\u001B[39;00m\n\u001B[0;32m     45\u001B[0m \u001B[38;5;124;03m    \"\"\"\u001B[39;00m\n\u001B[1;32m---> 46\u001B[0m     \u001B[38;5;28mself\u001B[39m\u001B[38;5;241m.\u001B[39madd_message(\u001B[43mHumanMessage\u001B[49m\u001B[43m(\u001B[49m\u001B[43mcontent\u001B[49m\u001B[38;5;241;43m=\u001B[39;49m\u001B[43mmessage\u001B[49m\u001B[43m)\u001B[49m)\n",
      "File \u001B[1;32m~\\anaconda3\\envs\\langchain\\Lib\\site-packages\\langchain\\load\\serializable.py:97\u001B[0m, in \u001B[0;36mSerializable.__init__\u001B[1;34m(self, **kwargs)\u001B[0m\n\u001B[0;32m     96\u001B[0m \u001B[38;5;28;01mdef\u001B[39;00m \u001B[38;5;21m__init__\u001B[39m(\u001B[38;5;28mself\u001B[39m, \u001B[38;5;241m*\u001B[39m\u001B[38;5;241m*\u001B[39mkwargs: Any) \u001B[38;5;241m-\u001B[39m\u001B[38;5;241m>\u001B[39m \u001B[38;5;28;01mNone\u001B[39;00m:\n\u001B[1;32m---> 97\u001B[0m     \u001B[38;5;28;43msuper\u001B[39;49m\u001B[43m(\u001B[49m\u001B[43m)\u001B[49m\u001B[38;5;241;43m.\u001B[39;49m\u001B[38;5;21;43m__init__\u001B[39;49m\u001B[43m(\u001B[49m\u001B[38;5;241;43m*\u001B[39;49m\u001B[38;5;241;43m*\u001B[39;49m\u001B[43mkwargs\u001B[49m\u001B[43m)\u001B[49m\n\u001B[0;32m     98\u001B[0m     \u001B[38;5;28mself\u001B[39m\u001B[38;5;241m.\u001B[39m_lc_kwargs \u001B[38;5;241m=\u001B[39m kwargs\n",
      "File \u001B[1;32m~\\anaconda3\\envs\\langchain\\Lib\\site-packages\\pydantic\\v1\\main.py:341\u001B[0m, in \u001B[0;36mBaseModel.__init__\u001B[1;34m(__pydantic_self__, **data)\u001B[0m\n\u001B[0;32m    339\u001B[0m values, fields_set, validation_error \u001B[38;5;241m=\u001B[39m validate_model(__pydantic_self__\u001B[38;5;241m.\u001B[39m\u001B[38;5;18m__class__\u001B[39m, data)\n\u001B[0;32m    340\u001B[0m \u001B[38;5;28;01mif\u001B[39;00m validation_error:\n\u001B[1;32m--> 341\u001B[0m     \u001B[38;5;28;01mraise\u001B[39;00m validation_error\n\u001B[0;32m    342\u001B[0m \u001B[38;5;28;01mtry\u001B[39;00m:\n\u001B[0;32m    343\u001B[0m     object_setattr(__pydantic_self__, \u001B[38;5;124m'\u001B[39m\u001B[38;5;124m__dict__\u001B[39m\u001B[38;5;124m'\u001B[39m, values)\n",
      "\u001B[1;31mValidationError\u001B[0m: 1 validation error for HumanMessage\ncontent\n  str type expected (type=type_error.str)"
     ]
    }
   ],
   "source": [
    "from langchain.schema import HumanMessage\n",
    "from qunar import http_interceptor\n",
    "from langchain.prompts.chat import HumanMessagePromptTemplate\n",
    "http_interceptor.init()\n",
    "p = HumanMessage(content=\"生成一段sql, 有关查询班级的总人数\")\n",
    "import asyncio\n",
    "\n",
    "response = agent_chain.invoke(p)\n",
    "# agent_chain.stream()\n",
    "# response[\"intermediate_steps\"]\n"
   ],
   "metadata": {
    "collapsed": false,
    "ExecuteTime": {
     "end_time": "2023-10-28T05:17:30.298934400Z",
     "start_time": "2023-10-28T05:16:57.295870Z"
    }
   },
   "id": "816d379aeb36228f"
  },
  {
   "cell_type": "markdown",
   "source": [
    "这里出现了一个问题，tool报错导致chain执行失败，在写tool的时候应该返回错误码"
   ],
   "metadata": {
    "collapsed": false
   },
   "id": "fc07cb85295ad62d"
  },
  {
   "cell_type": "code",
   "execution_count": 61,
   "outputs": [
    {
     "data": {
      "text/plain": "{'chat_history': 'Human: 生成一段sql\\nAI: I am sorry, but I am not able to generate a SQL statement.'}"
     },
     "execution_count": 61,
     "metadata": {},
     "output_type": "execute_result"
    }
   ],
   "source": [
    "memory.load_memory_variables([])"
   ],
   "metadata": {
    "collapsed": false,
    "ExecuteTime": {
     "end_time": "2023-10-28T03:04:06.480545Z",
     "start_time": "2023-10-28T03:04:06.467842600Z"
    }
   },
   "id": "d16d3bf92465b250"
  },
  {
   "cell_type": "code",
   "execution_count": null,
   "outputs": [],
   "source": [],
   "metadata": {
    "collapsed": false
   },
   "id": "dc8a21ae78d361d"
  }
 ],
 "metadata": {
  "kernelspec": {
   "display_name": "Python 3",
   "language": "python",
   "name": "python3"
  },
  "language_info": {
   "codemirror_mode": {
    "name": "ipython",
    "version": 2
   },
   "file_extension": ".py",
   "mimetype": "text/x-python",
   "name": "python",
   "nbconvert_exporter": "python",
   "pygments_lexer": "ipython2",
   "version": "2.7.6"
  }
 },
 "nbformat": 4,
 "nbformat_minor": 5
}
